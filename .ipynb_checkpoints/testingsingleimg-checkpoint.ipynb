{
 "cells": [
  {
   "cell_type": "code",
   "execution_count": null,
   "id": "586363bb",
   "metadata": {},
   "outputs": [],
   "source": [
    "import cv2\n",
    "import sys\n",
    "import numpy as np\n",
    "from matplotlib import pyplot as plt\n",
    "import operator\n",
    "import tensorflow as tf\n",
    "\n",
    "from time import time"
   ]
  },
  {
   "cell_type": "code",
   "execution_count": null,
   "id": "a358ea03",
   "metadata": {},
   "outputs": [],
   "source": [
    "load_model = tf.keras.models.load_model('savemodel/alexnet_ep30lr0p001bs256.h5')\n",
    "print(\"Loaded saved model from disk.\")"
   ]
  },
  {
   "cell_type": "code",
   "execution_count": null,
   "id": "346c20c7",
   "metadata": {},
   "outputs": [],
   "source": [
    "load_model.evaluate(x, y)"
   ]
  },
  {
   "cell_type": "code",
   "execution_count": null,
   "id": "07ecd65e",
   "metadata": {},
   "outputs": [],
   "source": [
    "\n",
    "image = cv2.imread('C:/Users/eaind/ocr/13Sep21Model/cnnpro/data/ba/ba_9.jpg')\n",
    "plt.imshow(image), plt.title('Input Image')\n",
    "plt.show()\n",
    "\n",
    "image_resize = cv2.resize(image, (224,224))  \n",
    "image_resize_2 = image_resize.reshape(1,224,224,3)   \n",
    "predictions = load_model.predict(image_resize_2)\n",
    "    \n",
    "class_names = ['၀','၁','၂','၃','၄','၅','၆','၇','၈','၉','အ','ဘ',')','ဒ','ဓ','ဂ','ဟ','ထ','ဌ','က','ခ','လ','မ','န','င','ည','(','ပ','ဖ','ဆ','/','စ','တ','သ','ဥ','ဝ','ရ','ယ','ဇ']\n",
    "#class_names = ['က','ခ','ဂ','င','တ','ထ','၀','၁','၂','၃']\n",
    "\n",
    "class_names[np.argmax(predictions)]"
   ]
  },
  {
   "cell_type": "code",
   "execution_count": null,
   "id": "3a60c821",
   "metadata": {},
   "outputs": [],
   "source": []
  }
 ],
 "metadata": {
  "kernelspec": {
   "display_name": "Python 3",
   "language": "python",
   "name": "python3"
  },
  "language_info": {
   "codemirror_mode": {
    "name": "ipython",
    "version": 3
   },
   "file_extension": ".py",
   "mimetype": "text/x-python",
   "name": "python",
   "nbconvert_exporter": "python",
   "pygments_lexer": "ipython3",
   "version": "3.8.8"
  }
 },
 "nbformat": 4,
 "nbformat_minor": 5
}
