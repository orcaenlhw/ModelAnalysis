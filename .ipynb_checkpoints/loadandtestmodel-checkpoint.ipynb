{
 "cells": [
  {
   "cell_type": "code",
   "execution_count": null,
   "id": "bdb41b69",
   "metadata": {},
   "outputs": [],
   "source": [
    "###Testing###"
   ]
  },
  {
   "cell_type": "code",
   "execution_count": 3,
   "id": "adab30f7",
   "metadata": {
    "scrolled": true
   },
   "outputs": [],
   "source": [
    "import cv2\n",
    "import os\n",
    "from keras.models import load_model\n",
    "from keras.preprocessing import image\n",
    "import numpy as np\n",
    "from matplotlib import pyplot as plt\n",
    "from matplotlib.pyplot import figure\n",
    "import tensorflow as tf\n",
    "\n",
    "# class names\n",
    "class_names = ['၀','၁','၂','၃','၄','၅','၆','၇','၈','၉','အ','ဘ',')','ဒ','ဓ','ဂ','ဟ','ထ','ဌ','က','ခ','လ','မ','န','င','ည','(','ပ','ဖ','ဆ','/','စ','တ','သ','ဥ','ဝ','ရ','ယ','ဇ']\n",
    "\n",
    "# image folder\n",
    "folder = 'C:/Users/eaind/ocr/13Sep21Model/cnnpro/data/ka/'\n",
    "\n",
    "# dimensions of images\n",
    "img_width, img_height = 96, 96"
   ]
  },
  {
   "cell_type": "code",
   "execution_count": 4,
   "id": "927ca5f4",
   "metadata": {},
   "outputs": [],
   "source": [
    "##Load Model##"
   ]
  },
  {
   "cell_type": "code",
   "execution_count": 5,
   "id": "ed4e2a2b",
   "metadata": {},
   "outputs": [
    {
     "name": "stdout",
     "output_type": "stream",
     "text": [
      "Model: \"sequential_11\"\n",
      "_________________________________________________________________\n",
      "Layer (type)                 Output Shape              Param #   \n",
      "=================================================================\n",
      "sequential_6 (Sequential)    (None, 24, 24, 64)        9472      \n",
      "_________________________________________________________________\n",
      "sequential_7 (Sequential)    (None, 12, 12, 192)       114944    \n",
      "_________________________________________________________________\n",
      "sequential_8 (Sequential)    (None, 6, 6, 480)         552432    \n",
      "_________________________________________________________________\n",
      "sequential_9 (Sequential)    (None, 3, 3, 832)         2809168   \n",
      "_________________________________________________________________\n",
      "sequential_10 (Sequential)   (None, 1024)              2487536   \n",
      "_________________________________________________________________\n",
      "dense_1 (Dense)              (None, 39)                39975     \n",
      "=================================================================\n",
      "Total params: 6,013,527\n",
      "Trainable params: 6,013,527\n",
      "Non-trainable params: 0\n",
      "_________________________________________________________________\n"
     ]
    }
   ],
   "source": [
    "loadmodel = tf.keras.models.load_model('savemodel/googlenetModeltchel')\n",
    "\n",
    "loadmodel.summary()"
   ]
  },
  {
   "cell_type": "code",
   "execution_count": 10,
   "id": "e37d42df",
   "metadata": {},
   "outputs": [
    {
     "ename": "NameError",
     "evalue": "name 'train_iter' is not defined",
     "output_type": "error",
     "traceback": [
      "\u001b[1;31m---------------------------------------------------------------------------\u001b[0m",
      "\u001b[1;31mNameError\u001b[0m                                 Traceback (most recent call last)",
      "\u001b[1;32m<ipython-input-10-4a1a3a434762>\u001b[0m in \u001b[0;36m<module>\u001b[1;34m\u001b[0m\n\u001b[1;32m----> 1\u001b[1;33m \u001b[0mloss\u001b[0m\u001b[1;33m,\u001b[0m \u001b[0macc\u001b[0m \u001b[1;33m=\u001b[0m \u001b[0mloadmodel\u001b[0m\u001b[1;33m.\u001b[0m\u001b[0mevaluate\u001b[0m\u001b[1;33m(\u001b[0m\u001b[0mtrain_iter\u001b[0m\u001b[1;33m,\u001b[0m \u001b[0mverbose\u001b[0m\u001b[1;33m=\u001b[0m\u001b[1;36m2\u001b[0m\u001b[1;33m)\u001b[0m\u001b[1;33m\u001b[0m\u001b[1;33m\u001b[0m\u001b[0m\n\u001b[0m\u001b[0;32m      2\u001b[0m \u001b[0mprint\u001b[0m\u001b[1;33m(\u001b[0m\u001b[1;34m'Restored model, accuracy: {:5.2f}%'\u001b[0m\u001b[1;33m.\u001b[0m\u001b[0mformat\u001b[0m\u001b[1;33m(\u001b[0m\u001b[1;36m100\u001b[0m \u001b[1;33m*\u001b[0m \u001b[0macc\u001b[0m\u001b[1;33m)\u001b[0m\u001b[1;33m)\u001b[0m\u001b[1;33m\u001b[0m\u001b[1;33m\u001b[0m\u001b[0m\n\u001b[0;32m      3\u001b[0m \u001b[1;33m\u001b[0m\u001b[0m\n\u001b[0;32m      4\u001b[0m \u001b[0mprint\u001b[0m\u001b[1;33m(\u001b[0m\u001b[0mloadmodel\u001b[0m\u001b[1;33m.\u001b[0m\u001b[0mpredict\u001b[0m\u001b[1;33m(\u001b[0m\u001b[0mtrain_iter\u001b[0m\u001b[1;33m)\u001b[0m\u001b[1;33m.\u001b[0m\u001b[0mshape\u001b[0m\u001b[1;33m)\u001b[0m\u001b[1;33m\u001b[0m\u001b[1;33m\u001b[0m\u001b[0m\n",
      "\u001b[1;31mNameError\u001b[0m: name 'train_iter' is not defined"
     ]
    }
   ],
   "source": [
    "loss, acc = loadmodel.evaluate(val_iter, verbose=2)\n",
    "print('Restored model, accuracy: {:5.2f}%'.format(100 * acc))\n",
    "\n",
    "print(loadmodel.predict(val_iter).shape)"
   ]
  },
  {
   "cell_type": "code",
   "execution_count": null,
   "id": "f847b488",
   "metadata": {},
   "outputs": [],
   "source": [
    "for filename in os.listdir(folder):\n",
    "    img = cv2.imread(os.path.join(folder,filename))\n",
    "    if img is not None:\n",
    "        #plt.imshow(img)\n",
    "        #plt.show()\n",
    "        img_resize = cv2.resize(img, (img_width, img_height))\n",
    "        img_resize_2 = img_resize.reshape(1, 96, 96, 3)\n",
    "        pred = loadmodel.predict(img_resize_2)\n",
    "        cls = class_names[np.argmax(pred)]\n",
    "        print(\"Prediction of \" + filename + \" is  \" + cls)\n",
    "        "
   ]
  }
 ],
 "metadata": {
  "interpreter": {
   "hash": "2293feb6cecc528cd46ae80f3cb9f88922dfe2f86ed7e4b08648706576dc8dc3"
  },
  "kernelspec": {
   "display_name": "Python 3",
   "language": "python",
   "name": "python3"
  },
  "language_info": {
   "codemirror_mode": {
    "name": "ipython",
    "version": 3
   },
   "file_extension": ".py",
   "mimetype": "text/x-python",
   "name": "python",
   "nbconvert_exporter": "python",
   "pygments_lexer": "ipython3",
   "version": "3.8.8"
  }
 },
 "nbformat": 4,
 "nbformat_minor": 5
}
