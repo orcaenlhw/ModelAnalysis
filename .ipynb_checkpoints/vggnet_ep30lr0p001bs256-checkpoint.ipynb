{
 "cells": [
  {
   "cell_type": "code",
   "execution_count": 5,
   "id": "98630634",
   "metadata": {},
   "outputs": [
    {
     "name": "stdout",
     "output_type": "stream",
     "text": [
      "Sequential output shape:\t (1, 112, 112, 64)\n",
      "Sequential output shape:\t (1, 56, 56, 128)\n",
      "Sequential output shape:\t (1, 28, 28, 256)\n",
      "Sequential output shape:\t (1, 14, 14, 512)\n",
      "Sequential output shape:\t (1, 7, 7, 512)\n",
      "Sequential output shape:\t (1, 39)\n"
     ]
    }
   ],
   "source": [
    "import tensorflow as tf\n",
    "from d2l import tensorflow as d2l\n",
    "import time\n",
    "import pathlib\n",
    "data_dir = 'C:/Users/eaind/ocr/13Sep21/mldlaids/cnnpj/data'\n",
    "\n",
    "\n",
    "def vgg_block(num_convs, num_channels):\n",
    "    blk = tf.keras.models.Sequential()\n",
    "    for _ in range(num_convs):\n",
    "        blk.add(tf.keras.layers.Conv2D(num_channels,kernel_size=3,\n",
    "                                    padding='same',activation='relu'))\n",
    "    blk.add(tf.keras.layers.MaxPool2D(pool_size=2, strides=2))\n",
    "    return blk\n",
    "\n",
    "conv_arch = ((1, 64), (1, 128), (2, 256), (2, 512), (2, 512))\n",
    "\n",
    "\n",
    "def vgg(conv_arch):\n",
    "    net = tf.keras.models.Sequential()\n",
    "    # The convulational part\n",
    "    for (num_convs, num_channels) in conv_arch:\n",
    "        net.add(vgg_block(num_convs, num_channels))\n",
    "    # The fully-connected part\n",
    "    net.add(\n",
    "        tf.keras.models.Sequential([\n",
    "            tf.keras.layers.Flatten(),\n",
    "            tf.keras.layers.Dense(4096, activation='relu'),\n",
    "            tf.keras.layers.Dropout(0.5),\n",
    "            tf.keras.layers.Dense(4096, activation='relu'),\n",
    "            tf.keras.layers.Dropout(0.5),\n",
    "            tf.keras.layers.Dense(39)]))\n",
    "    return net\n",
    "\n",
    "net = vgg(conv_arch)\n",
    "\n",
    "\n",
    "X = tf.random.uniform((1, 224, 224, 1))\n",
    "for blk in net.layers:\n",
    "    X = blk(X)\n",
    "    print(blk.__class__.__name__, 'output shape:\\t', X.shape)\n",
    "    \n",
    "\n",
    "ratio = 4\n",
    "small_conv_arch = [(pair[0], pair[1] // ratio) for pair in conv_arch]\n",
    "net = lambda: vgg(small_conv_arch)"
   ]
  },
  {
   "cell_type": "code",
   "execution_count": 6,
   "id": "060919cb",
   "metadata": {},
   "outputs": [
    {
     "name": "stdout",
     "output_type": "stream",
     "text": [
      "Found 21897 files belonging to 39 classes.\n",
      "Using 17518 files for training.\n",
      "Found 21897 files belonging to 39 classes.\n",
      "Using 4379 files for validation.\n"
     ]
    }
   ],
   "source": [
    "img_height, img_width = 224, 224  \n",
    "batch_size = 256\n",
    "\n",
    "\n",
    "train_iter = tf.keras.preprocessing.image_dataset_from_directory(\n",
    "  data_dir,\n",
    "  validation_split=0.2,\n",
    "  subset=\"training\",\n",
    "  seed=123,\n",
    "  image_size=(img_height, img_width),\n",
    "  batch_size=batch_size)\n",
    "val_iter = tf.keras.preprocessing.image_dataset_from_directory(\n",
    "  data_dir,\n",
    "  validation_split=0.2,\n",
    "  subset=\"validation\",\n",
    "  seed=123,\n",
    "  image_size=(img_height, img_width),\n",
    "  batch_size=batch_size)\n"
   ]
  },
  {
   "cell_type": "code",
   "execution_count": 7,
   "id": "f33de27b",
   "metadata": {},
   "outputs": [],
   "source": [
    "#@tab tensorflow\n",
    "class TrainCallback(tf.keras.callbacks.Callback):  #@save\n",
    "    \"\"\"A callback to visiualize the training progress.\"\"\"\n",
    "    def __init__(self, net, train_iter, test_iter, num_epochs, device_name):\n",
    "        self.timer = d2l.Timer()\n",
    "        self.animator = d2l.Animator(xlabel='epoch', xlim=[1, num_epochs], legend=['train loss', 'train acc', 'test acc'])\n",
    "        self.net = net\n",
    "        self.train_iter = train_iter\n",
    "        self.test_iter = test_iter\n",
    "        self.num_epochs = num_epochs\n",
    "        self.device_name = device_name\n",
    "    def on_epoch_begin(self, epoch, logs=None):\n",
    "        self.timer.start()\n",
    "    def on_epoch_end(self, epoch, logs):\n",
    "        if(logs.get('loss')<0.02):\n",
    "            print(\"\\nReached 98% accuracy so cancelling training!\")\n",
    "            self.net.stop_training = True\n",
    "        self.timer.stop()\n",
    "        test_acc = self.net.evaluate(self.test_iter, verbose=0, return_dict=True)['accuracy']\n",
    "        metrics = (logs['loss'], logs['accuracy'], test_acc)\n",
    "        self.animator.add(epoch + 1, metrics)\n",
    "        if epoch == self.num_epochs - 1:\n",
    "            batch_size = next(iter(self.train_iter))[0].shape[0]\n",
    "            num_examples = batch_size * tf.data.experimental.cardinality(self.train_iter).numpy()\n",
    "            print(f'loss {metrics[0]:.3f}, train acc {metrics[1]:.3f}, 'f'test acc {metrics[2]:.3f}')\n",
    "            print(f'{num_examples / self.timer.avg():.1f} examples/sec on 'f'{str(self.device_name)}')\n",
    "\n",
    "#@save\n",
    "def train_ch6(net_fn, train_iter, test_iter, num_epochs, lr, device):\n",
    "    \"\"\"Train a model with a GPU (defined in Chapter 6).\"\"\"\n",
    "    device_name = device._device_name\n",
    "    strategy = tf.distribute.OneDeviceStrategy(device_name)\n",
    "    with strategy.scope():\n",
    "        optimizer = tf.keras.optimizers.SGD(learning_rate=lr)\n",
    "        loss = tf.keras.losses.SparseCategoricalCrossentropy(from_logits=True)\n",
    "        net = net_fn()\n",
    "        net.compile(optimizer=optimizer, loss=loss, metrics=['accuracy'])\n",
    "    callback = TrainCallback(net, train_iter, test_iter, num_epochs, device_name)\n",
    "    net.fit(train_iter, epochs=num_epochs, verbose=0, callbacks=[callback])\n",
    "    return net"
   ]
  },
  {
   "cell_type": "code",
   "execution_count": null,
   "id": "97495784",
   "metadata": {},
   "outputs": [],
   "source": [
    "lr, num_epochs = 0.001, 30  #bs=256\n",
    "model = train_ch6(net, train_iter, val_iter, num_epochs, lr, d2l.try_gpu())"
   ]
  },
  {
   "cell_type": "code",
   "execution_count": 6,
   "id": "f81797ca",
   "metadata": {},
   "outputs": [
    {
     "name": "stdout",
     "output_type": "stream",
     "text": [
      "Model: \"sequential_7\"\n",
      "_________________________________________________________________\n",
      "Layer (type)                 Output Shape              Param #   \n",
      "=================================================================\n",
      "sequential_8 (Sequential)    (None, 112, 112, 16)      448       \n",
      "_________________________________________________________________\n",
      "sequential_9 (Sequential)    (None, 56, 56, 32)        4640      \n",
      "_________________________________________________________________\n",
      "sequential_10 (Sequential)   (None, 28, 28, 64)        55424     \n",
      "_________________________________________________________________\n",
      "sequential_11 (Sequential)   (None, 14, 14, 128)       221440    \n",
      "_________________________________________________________________\n",
      "sequential_12 (Sequential)   (None, 7, 7, 128)         295168    \n",
      "_________________________________________________________________\n",
      "sequential_13 (Sequential)   (None, 39)                42635303  \n",
      "=================================================================\n",
      "Total params: 43,212,423\n",
      "Trainable params: 43,212,423\n",
      "Non-trainable params: 0\n",
      "_________________________________________________________________\n"
     ]
    }
   ],
   "source": [
    "model.summary()\n",
    "model.save('savemodel/vggnet_ep30lr0p001bs256.h5')"
   ]
  },
  {
   "cell_type": "code",
   "execution_count": null,
   "id": "5e64936c",
   "metadata": {},
   "outputs": [],
   "source": []
  }
 ],
 "metadata": {
  "kernelspec": {
   "display_name": "Python 3",
   "language": "python",
   "name": "python3"
  },
  "language_info": {
   "codemirror_mode": {
    "name": "ipython",
    "version": 3
   },
   "file_extension": ".py",
   "mimetype": "text/x-python",
   "name": "python",
   "nbconvert_exporter": "python",
   "pygments_lexer": "ipython3",
   "version": "3.8.8"
  }
 },
 "nbformat": 4,
 "nbformat_minor": 5
}
