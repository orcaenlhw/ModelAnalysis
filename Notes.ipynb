{
 "cells": [
  {
   "cell_type": "markdown",
   "id": "b056f266",
   "metadata": {},
   "source": [
    "## [**Network**]\n",
    "\n",
    "This is depicted in :numref:`fig_vgg`.\n",
    "\n",
    "![From AlexNet to VGG that is designed from building blocks.]\n",
    "<img src=\"files/aplications-of-svm-2.jpg\" width=\"400px\" >\n",
    ":label:`eg_image`\n",
    "\n",
    "The following code implements VGG-11. This is a simple matter of executing a for-loop over `conv_arch`.\n",
    "Next, we will construct a single-channel data example\n",
    "with a height and width of 224 to [**observe the output shape of each layer**].\n"
   ]
  },
  {
   "cell_type": "markdown",
   "id": "ae215942",
   "metadata": {},
   "source": [
    "# ResNet in Keras\n",
    "\n",
    "Increasing network depth does not work by simply stacking layers together. \n",
    "Deep networks are hard to train because of the notorious vanishing gradient \n",
    "problem — as the gradient is back-propagated to earlier layers, repeated \n",
    "multiplication may make the gradient extremely small. As a result, as the \n",
    "network goes deeper, its performance gets saturated or even starts degrading rapidly."
   ]
  },
  {
   "cell_type": "markdown",
   "id": "a9ef0112",
   "metadata": {},
   "source": [
    "# Architecture Overview\n",
    "\n",
    "In CIFAR-10, images are only of size 32x32x3 (32 wide, 32 high, 3 color channels), \n",
    "so a single fully-connected neuron in a first hidden layer of a regular Neural \n",
    "Network would have 32*32*3 = 3072 weights.\n",
    "\n"
   ]
  },
  {
   "cell_type": "code",
   "execution_count": null,
   "id": "734e43e1",
   "metadata": {},
   "outputs": [],
   "source": []
  },
  {
   "cell_type": "code",
   "execution_count": null,
   "id": "8094ab67",
   "metadata": {},
   "outputs": [],
   "source": []
  },
  {
   "cell_type": "code",
   "execution_count": null,
   "id": "f60a8b2c",
   "metadata": {},
   "outputs": [],
   "source": []
  },
  {
   "cell_type": "code",
   "execution_count": null,
   "id": "65881f38",
   "metadata": {},
   "outputs": [],
   "source": []
  },
  {
   "cell_type": "code",
   "execution_count": null,
   "id": "d11ab349",
   "metadata": {},
   "outputs": [],
   "source": []
  },
  {
   "cell_type": "code",
   "execution_count": null,
   "id": "3b7c4500",
   "metadata": {},
   "outputs": [],
   "source": []
  },
  {
   "cell_type": "code",
   "execution_count": null,
   "id": "a00d2fe8",
   "metadata": {},
   "outputs": [],
   "source": []
  }
 ],
 "metadata": {
  "kernelspec": {
   "display_name": "Python 3",
   "language": "python",
   "name": "python3"
  },
  "language_info": {
   "codemirror_mode": {
    "name": "ipython",
    "version": 3
   },
   "file_extension": ".py",
   "mimetype": "text/x-python",
   "name": "python",
   "nbconvert_exporter": "python",
   "pygments_lexer": "ipython3",
   "version": "3.8.8"
  }
 },
 "nbformat": 4,
 "nbformat_minor": 5
}
